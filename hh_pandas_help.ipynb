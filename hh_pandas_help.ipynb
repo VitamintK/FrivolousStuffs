{
 "cells": [
  {
   "cell_type": "code",
   "execution_count": 21,
   "metadata": {
    "collapsed": false
   },
   "outputs": [],
   "source": [
    "import pandas as pd\n",
    "import numpy as np\n",
    "df = pd.DataFrame({'A' : ['foo', 'bar', 'foo', 'bar',\n",
    "                          'foo', 'bar', 'foo', 'foo'],\n",
    "                   'B' : ['one', 'one', 'two', 'three',\n",
    "                         'two', 'two', 'one', 'three'],\n",
    "                    'C' : ['.NET DEVELOPER',\n",
    "'.NET ENGINEER',\n",
    "'.NET SOFTWARE ENGINEER', 'other', 'other2', 'DATA SCIENCE & ANALYTICS, DIRECTOR',\n",
    "'DATA SCIENCE ADVISOR',\n",
    "'DATA SCIENCE ANALYST'],\n",
    "                    'D' : np.random.randn(8)})"
   ]
  },
  {
   "cell_type": "code",
   "execution_count": 22,
   "metadata": {
    "collapsed": false
   },
   "outputs": [
    {
     "data": {
      "text/html": [
       "<div>\n",
       "<table border=\"1\" class=\"dataframe\">\n",
       "  <thead>\n",
       "    <tr style=\"text-align: right;\">\n",
       "      <th></th>\n",
       "      <th>A</th>\n",
       "      <th>B</th>\n",
       "      <th>C</th>\n",
       "      <th>D</th>\n",
       "    </tr>\n",
       "  </thead>\n",
       "  <tbody>\n",
       "    <tr>\n",
       "      <th>0</th>\n",
       "      <td>foo</td>\n",
       "      <td>one</td>\n",
       "      <td>.NET DEVELOPER</td>\n",
       "      <td>1.269013</td>\n",
       "    </tr>\n",
       "    <tr>\n",
       "      <th>1</th>\n",
       "      <td>bar</td>\n",
       "      <td>one</td>\n",
       "      <td>.NET ENGINEER</td>\n",
       "      <td>0.063537</td>\n",
       "    </tr>\n",
       "    <tr>\n",
       "      <th>2</th>\n",
       "      <td>foo</td>\n",
       "      <td>two</td>\n",
       "      <td>.NET SOFTWARE ENGINEER</td>\n",
       "      <td>0.433860</td>\n",
       "    </tr>\n",
       "    <tr>\n",
       "      <th>3</th>\n",
       "      <td>bar</td>\n",
       "      <td>three</td>\n",
       "      <td>other</td>\n",
       "      <td>0.119307</td>\n",
       "    </tr>\n",
       "    <tr>\n",
       "      <th>4</th>\n",
       "      <td>foo</td>\n",
       "      <td>two</td>\n",
       "      <td>other2</td>\n",
       "      <td>1.636995</td>\n",
       "    </tr>\n",
       "    <tr>\n",
       "      <th>5</th>\n",
       "      <td>bar</td>\n",
       "      <td>two</td>\n",
       "      <td>DATA SCIENCE &amp; ANALYTICS, DIRECTOR</td>\n",
       "      <td>0.396039</td>\n",
       "    </tr>\n",
       "    <tr>\n",
       "      <th>6</th>\n",
       "      <td>foo</td>\n",
       "      <td>one</td>\n",
       "      <td>DATA SCIENCE ADVISOR</td>\n",
       "      <td>-0.863780</td>\n",
       "    </tr>\n",
       "    <tr>\n",
       "      <th>7</th>\n",
       "      <td>foo</td>\n",
       "      <td>three</td>\n",
       "      <td>DATA SCIENCE ANALYST</td>\n",
       "      <td>0.442783</td>\n",
       "    </tr>\n",
       "  </tbody>\n",
       "</table>\n",
       "</div>"
      ],
      "text/plain": [
       "     A      B                                   C         D\n",
       "0  foo    one                      .NET DEVELOPER  1.269013\n",
       "1  bar    one                       .NET ENGINEER  0.063537\n",
       "2  foo    two              .NET SOFTWARE ENGINEER  0.433860\n",
       "3  bar  three                               other  0.119307\n",
       "4  foo    two                              other2  1.636995\n",
       "5  bar    two  DATA SCIENCE & ANALYTICS, DIRECTOR  0.396039\n",
       "6  foo    one                DATA SCIENCE ADVISOR -0.863780\n",
       "7  foo  three                DATA SCIENCE ANALYST  0.442783"
      ]
     },
     "execution_count": 22,
     "metadata": {},
     "output_type": "execute_result"
    }
   ],
   "source": [
    "df"
   ]
  },
  {
   "cell_type": "code",
   "execution_count": 32,
   "metadata": {
    "collapsed": false
   },
   "outputs": [
    {
     "name": "stdout",
     "output_type": "stream",
     "text": [
      ".NET \n",
      "      A    B                       C         D\n",
      "0  foo  one          .NET DEVELOPER  1.269013\n",
      "1  bar  one           .NET ENGINEER  0.063537\n",
      "2  foo  two  .NET SOFTWARE ENGINEER  0.433860\n",
      "DATA SCIENCE \n",
      "      A      B                                   C         D\n",
      "5  bar    two  DATA SCIENCE & ANALYTICS, DIRECTOR  0.396039\n",
      "6  foo    one                DATA SCIENCE ADVISOR -0.863780\n",
      "7  foo  three                DATA SCIENCE ANALYST  0.442783\n",
      "other \n",
      "      A      B      C         D\n",
      "3  bar  three  other  0.119307\n",
      "other2 \n",
      "      A    B       C         D\n",
      "4  foo  two  other2  1.636995\n"
     ]
    }
   ],
   "source": [
    "def truncate(x):\n",
    "    return ('.NET' if x.startswith('.NET') else 'DATA SCIENCE' if x.startswith('DATA SCIENCE') else x)\n",
    "grouped = df.groupby(df.C.apply(truncate))\n",
    "for name, group in grouped:\n",
    "    print(name, \"\\n\", group)"
   ]
  },
  {
   "cell_type": "code",
   "execution_count": null,
   "metadata": {
    "collapsed": true
   },
   "outputs": [],
   "source": []
  }
 ],
 "metadata": {
  "kernelspec": {
   "display_name": "Python 3",
   "language": "python",
   "name": "python3"
  },
  "language_info": {
   "codemirror_mode": {
    "name": "ipython",
    "version": 3
   },
   "file_extension": ".py",
   "mimetype": "text/x-python",
   "name": "python",
   "nbconvert_exporter": "python",
   "pygments_lexer": "ipython3",
   "version": "3.4.3"
  }
 },
 "nbformat": 4,
 "nbformat_minor": 0
}
